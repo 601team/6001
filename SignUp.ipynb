{
  "nbformat": 4,
  "nbformat_minor": 0,
  "metadata": {
    "colab": {
      "name": "SignUp.ipynb",
      "provenance": [],
      "collapsed_sections": [],
      "authorship_tag": "ABX9TyOrmMDAEUzFS2xPsZnSthKq",
      "include_colab_link": true
    },
    "kernelspec": {
      "name": "python3",
      "display_name": "Python 3"
    },
    "language_info": {
      "name": "python"
    }
  },
  "cells": [
    {
      "cell_type": "markdown",
      "metadata": {
        "id": "view-in-github",
        "colab_type": "text"
      },
      "source": [
        "<a href=\"https://colab.research.google.com/github/rhj7513/601/blob/main/SignUp.ipynb\" target=\"_parent\"><img src=\"https://colab.research.google.com/assets/colab-badge.svg\" alt=\"Open In Colab\"/></a>"
      ]
    },
    {
      "cell_type": "code",
      "execution_count": null,
      "metadata": {
        "id": "hJskJeS8ngMz"
      },
      "outputs": [],
      "source": [
        "\n",
        "import firebase_admin\n",
        "from firebase_admin import credentials\n",
        "from firebase_admin import db\n",
        "\n",
        "# !pip install firebase_admin \n",
        "# !pip3 install firebase_admin"
      ]
    },
    {
      "cell_type": "code",
      "source": [
        "#한번만 실행\n",
        "cred = credentials.Certificate(\"team-a5651-firebase-adminsdk-5hdcl-6902c61bf2.json\")\n",
        "firebase_admin.initialize_app(cred,{\n",
        "    'databaseURL' : 'https://team-a5651-default-rtdb.firebaseio.com/'\n",
        "})"
      ],
      "metadata": {
        "id": "BJYr1HjqcXst"
      },
      "execution_count": null,
      "outputs": []
    },
    {
      "cell_type": "code",
      "source": [
        "#교수님은 이미 저장해둠\n",
        "ref = db.reference('user')\n",
        "ref.update({'choijaesung':{'user_pw':402,'user_name':'최재성','user_idNumber':'null','user_mail':'jschoi@sunmoon.ac.kr','user_tell':'010-7195-2358',\n",
        "                          'user_conTime':'수 6,7,8','user_pOffice':'인문관 402호','user_consultState':'null'}})\n",
        "ref.update({'gangpilsung':{'user_pw':422,'user_name':'강필성','user_idNumber':'null','user_mail':'pilsungk@sunmoon.ac.kr','user_tell':'010-6231-8326',\n",
        "                           'user_conTime':'월 4,5 수 6','user_pOffice':'인문관 422호','user_consultState':'null'}})\n",
        "ref.update({'kinchangjae':{'user_pw':434,'user_name':'김창재','user_idNumber':'null','user_mail':'winchang@sunmoon.ac.kr','user_tell':'010-2431-1234',\n",
        "                           'user_conTime':'월 6,9 수 7,8','user_pOffice':'인문관 434호','user_consultState':'null'}})\n",
        "ref.update({'parkyoonyong':{'user_pw':421,'user_name':'박윤용','user_idNumber':'null','user_mail':'yypark@sunmoon.ac.kr','user_tell':'010-8803-2365',\n",
        "                           'user_conTime':'화 1,2 금 1','user_pOffice':'인문관 421호','user_consultState':'null'}})\n",
        "ref.update({'leeseongcheol':{'user_pw':420,'user_name':'이성철','user_idNumber':'null','user_mail':'sungchul@sunmoon.ac.kr','user_tell':'010-9444-6531',\n",
        "                           'user_conTime':'월 7,8 수 7,8','user_pOffice':'인문관 420호','user_consultState':'null'}})\n",
        "ref.update({'kimjeongdong':{'user_pw':417,'user_name':'김정동','user_idNumber':'null','user_mail':'\tkjdvhu@gmail.com','user_tell':'010-8806-2156',\n",
        "                           'user_conTime':'\t화 1,2 목 3','user_pOffice':'인문관 417호','user_consultState':'null'}})\n",
        "ref.update({'hwangyoungseop':{'user_pw':419,'user_name':'황영섭','user_idNumber':'null','user_mail':'young@sunmoon.ac.kr','user_tell':'010-8800-7648',\n",
        "                           'user_conTime':'월 4,5','user_pOffice':'인문관 419호','user_consultState':'null'}})\n",
        "ref.update({'leeseongcheol':{'user_pw':415,'user_name':'이현','user_idNumber':'null','user_mail':'mahyun91@sunmoon.ac.kr','user_tell':'010-5112-0745',\n",
        "                           'user_conTime':'수 8,9','user_pOffice':'인문관 415호','user_consultState':'null'}})\n",
        "ref.update({'kimjonghyuk':{'user_pw':415,'user_name':'김종혁','user_idNumber':'null','user_mail':'halfmoonlike@gmail.com','user_tell':'010-9260-6139',\n",
        "                           'user_conTime':'월 4,5 화 5,6,7','user_pOffice':'인문관 415호','user_consultState':'null'}})\n",
        "ref.update({'leekyungo':{'user_pw':423,'user_name':'이경오','user_idNumber':'null','user_mail':'leeko@sunmoon.ac.kr','user_tell':'010-3327-7524',\n",
        "                           'user_conTime':'\t월 4,5','user_pOffice':'인문관 423호','user_consultState':'null'}})"
      ],
      "metadata": {
        "id": "716qdRAqcyA1"
      },
      "execution_count": null,
      "outputs": []
    },
    {
      "cell_type": "code",
      "source": [
        "#임의로 데이터 넣어둠\n",
        "ref=db.reference('consult')\n",
        "ref.update({'diddus45':{'consult_day':'2022-08-05','consult_conTime':'2교시 A'}})\n",
        "ref.update({'bohyeon':{'consult_day':'2022-08-05','consult_conTime':'3교시 A'}})\n",
        "ref.update({'rhj7513':{'consult_day':'2022-08-05','consult_conTime':'2교시 B'}})"
      ],
      "metadata": {
        "id": "simye0uOrvr0"
      },
      "execution_count": null,
      "outputs": []
    },
    {
      "cell_type": "code",
      "source": [
        "for keys,values in ref.get().items():\n",
        "    print(values.get('consult_day'),end=' / ')\n",
        "    time = values.get('consult_conTime')\n",
        "    print(time.split(' ')[0][0],time.split(' ')[1])\n",
        "\n",
        "\n",
        "print('-----상담 예약현황----')\n",
        "id=input('아이디:')\n",
        "for key in ref.get().keys():\n",
        "\n",
        "\n"
      ],
      "metadata": {
        "colab": {
          "base_uri": "https://localhost:8080/"
        },
        "id": "RgBMwMXprp3G",
        "outputId": "34b4f806-9c80-4773-82c3-8e6e40eb7e42"
      },
      "execution_count": null,
      "outputs": [
        {
          "output_type": "stream",
          "name": "stdout",
          "text": [
            "-----상담 예약----\n",
            "2022-08-05 / 3 A\n",
            "2022-08-05 / 2 A\n",
            "2022-08-05 / 2 B\n"
          ]
        }
      ]
    }
  ]
}