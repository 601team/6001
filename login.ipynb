{
 "cells": [
  {
   "cell_type": "code",
   "execution_count": 2,
   "metadata": {},
   "outputs": [],
   "source": [
    "#!pip install selenium #selenium 패키지 설치\n",
    "#pip install pandas\n",
    "import sys    # 시스템\n",
    "import os     # 시스템\n",
    "import requests\n",
    "\n",
    "\n",
    "import pandas as pd    # 판다스 : 데이터분석 라이브러리\n",
    "import numpy as np     # 넘파이 : 숫자, 행렬 데이터 라이브러리\n",
    "\n",
    "from bs4 import BeautifulSoup     # html 데이터 전처리\n",
    "from selenium import webdriver    # 웹 브라우저 자동화\n",
    "from selenium.webdriver.common.by import By #By모듈 사용\n",
    "# from selenium.webdriver.common.service import Service\n",
    "# from webdriver_manager.chrome import ChromeDriverManager\n",
    "\n",
    "\n",
    "import time                       # 시간 지연\n",
    "from tqdm import tqdm_notebook    # 진행상황 표시"
   ]
  },
  {
   "cell_type": "code",
   "execution_count": 3,
   "metadata": {},
   "outputs": [
    {
     "data": {
      "text/plain": [
       "<firebase_admin.App at 0x1d0a315e6b0>"
      ]
     },
     "execution_count": 3,
     "metadata": {},
     "output_type": "execute_result"
    }
   ],
   "source": [
    "import firebase_admin\n",
    "from firebase_admin import credentials\n",
    "from firebase_admin import db\n",
    "\n",
    "cred = credentials.Certificate(\"team-a5651-firebase-adminsdk-5hdcl-eeadccd941.json\")\n",
    "firebase_admin.initialize_app(cred,{\n",
    "    'databaseURL' : 'https://team-a5651-default-rtdb.firebaseio.com/'\n",
    "})"
   ]
  },
  {
   "cell_type": "code",
   "execution_count": 10,
   "metadata": {},
   "outputs": [
    {
     "name": "stdout",
     "output_type": "stream",
     "text": [
      "dict_keys(['choijaesung', 'choijeasung', 'gangpilsung', 'hwangyoungseop', 'kimjeongdong', 'kimjonghyuk', 'kinchangjae', 'leekyungo', 'leeseongcheol', 'parkyoonyong'])\n"
     ]
    }
   ],
   "source": [
    "#테스트\n",
    "ref=db.reference(\"user\")\n",
    "print(ref.get().keys())"
   ]
  },
  {
   "cell_type": "code",
   "execution_count": null,
   "metadata": {},
   "outputs": [],
   "source": [
    "#예외처리\n",
    "class NotNullError(Exception):\n",
    "    def __init__(self):\n",
    "        super().__init__('값이 없습니다.')\n",
    "\n",
    "class NotOverlapError(Exception):\n",
    "    def __init__(self):\n",
    "        super().__init__('겹치는 값이 있습니다.')"
   ]
  },
  {
   "cell_type": "code",
   "execution_count": 18,
   "metadata": {},
   "outputs": [
    {
     "name": "stdout",
     "output_type": "stream",
     "text": [
      "다시 입력하세요! 겹치는 값이 있습니다.\n",
      "다시 입력하세요! 값이 없습니다.\n",
      "다시 입력하세요! 값이 없습니다.\n",
      "다시 입력하세요! 값이 없습니다.\n",
      "다시 입력하세요! 값이 없습니다.\n"
     ]
    }
   ],
   "source": [
    "# 사용자 회원가입 \n",
    "check=True #지역 변수 check\n",
    "while(check):\n",
    "    try:\n",
    "        id=input(\"아이디를 입력하세요: \") #NOT NULL\n",
    "        ref=db.reference(\"user\").get().keys()\n",
    "        if id in ref:\n",
    "            raise NotOverlapError\n",
    "        elif id == \"\":\n",
    "            raise NotNullError\n",
    "        else:\n",
    "            check=False\n",
    "    except Exception as e:\n",
    "        print(\"다시 입력하세요!\", e)\n",
    "\n",
    "check=True #지역 변수 check\n",
    "while(check):\n",
    "    try:\n",
    "        pw = input(\"비밀번호를 입력하세요: \") #NOT NULL\n",
    "        if pw == \"\":\n",
    "            raise NotNullError\n",
    "        else:\n",
    "            check=False\n",
    "    except Exception as e:\n",
    "        print(\"다시 입력하세요!\", e)\n",
    "\n",
    "check=True #지역 변수 check\n",
    "while(check):\n",
    "    try:\n",
    "        name = input(\"이름을 입력하세요: \") #NOT NULL\n",
    "        if name == \"\":\n",
    "            raise NotNullError\n",
    "        else:\n",
    "            check=False\n",
    "    except Exception as e:\n",
    "        print(\"다시 입력하세요!\", e)    \n",
    "\n",
    "idNumber = input(\"학번 입력하세요: \")\n",
    "\n",
    "check=True #지역 변수 check\n",
    "while(check):\n",
    "    try:\n",
    "        mail = input(\"메일을 입력하세요: \") #NOT NULL\n",
    "        if mail == \"\":\n",
    "            raise NotNullError\n",
    "        else:\n",
    "            check=False\n",
    "    except Exception as e:\n",
    "        print(\"다시 입력하세요!\", e)   \n",
    "\n",
    "tell = input(\"전화번호를 입력하세요: \")\n",
    "\n",
    "if idNumber==\"\" or tell==\"\":\n",
    "    idNumber='null'\n",
    "    tell='null'\n",
    "\n",
    "#상담 예약 시간: conTime\n",
    "#연구실: pOffice\n",
    "#상담 예약 현황: conssultState\n",
    "\n",
    "#db에 값 넣기\n",
    "ref = db.reference('user')\n",
    "ref.update({id : {\"user_pw\":pw,\"user_name\":name,\"user_idNumber\":idNumber,\"user_mail\":mail,\"user_tell\":tell,\"user_conTime\":\"null\",\"user_pOffice\":\"null\",\"user_consultState\":\"null\"}})"
   ]
  },
  {
   "cell_type": "code",
   "execution_count": 19,
   "metadata": {},
   "outputs": [],
   "source": [
    "# 사용자 로그인\n",
    "check=True #지역 변수 check\n",
    "while(check):\n",
    "    try:\n",
    "        id=input(\"아이디를 입력하세요: \") #NOT NULL\n",
    "        ref=db.reference(\"user\").get().keys()\n",
    "        if id == \"\":\n",
    "            check=False\n",
    "        else:\n",
    "            raise NotNullError\n",
    "    except Exception as e:\n",
    "        print(\"다시 입력하세요!\", e)\n",
    "\n",
    "check=True #지역 변수 check\n",
    "while(check):\n",
    "    try:\n",
    "        pw = input(\"비밀번호를 입력하세요: \") #NOT NULL\n",
    "        if pw == \"\":\n",
    "            check=False\n",
    "        else:\n",
    "            raise NotNullError\n",
    "    except Exception as e:\n",
    "        print(\"다시 입력하세요!\", e)"
   ]
  }
 ],
 "metadata": {
  "kernelspec": {
   "display_name": "Python 3.10.6 64-bit",
   "language": "python",
   "name": "python3"
  },
  "language_info": {
   "codemirror_mode": {
    "name": "ipython",
    "version": 3
   },
   "file_extension": ".py",
   "mimetype": "text/x-python",
   "name": "python",
   "nbconvert_exporter": "python",
   "pygments_lexer": "ipython3",
   "version": "3.10.6"
  },
  "orig_nbformat": 4,
  "vscode": {
   "interpreter": {
    "hash": "fb4569285eef3a3450cb62085a5b1e0da4bce0af555edc33dcf29baf3acc1368"
   }
  }
 },
 "nbformat": 4,
 "nbformat_minor": 2
}
